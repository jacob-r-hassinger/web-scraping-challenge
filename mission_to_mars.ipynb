{
 "cells": [
  {
   "cell_type": "code",
   "execution_count": null,
   "metadata": {},
   "outputs": [],
   "source": [
    "from splinter import Browser\n",
    "from bs4 import BeautifulSoup as bs\n",
    "import time\n",
    "import pandas as pd"
   ]
  },
  {
   "cell_type": "code",
   "execution_count": null,
   "metadata": {},
   "outputs": [],
   "source": [
    "def init_browser():\n",
    "    executable_path = {\"executable_path\": \"chromedriver.exe\"}\n",
    "    return Browser(\"chrome\", **executable_path, headless=False)"
   ]
  },
  {
   "cell_type": "code",
   "execution_count": null,
   "metadata": {},
   "outputs": [],
   "source": [
    "url = \"https://mars.nasa.gov/news\"\n",
    "url_img = \"https://www.jpl.nasa.gov/spaceimages/?search=&category=Mars\"\n",
    "url_twtr = \"https://twitter.com/MarsWxReport?lang=en\"\n",
    "url_table = \"https://space-facts.com/mars/\"\n",
    "url_hemispheres = \"https://astrogeology.usgs.gov/search/results?q=hemisphere+enhanced&k1=target&v1=Mars\""
   ]
  },
  {
   "cell_type": "code",
   "execution_count": null,
   "metadata": {},
   "outputs": [],
   "source": [
    "browser = init_browser()\n",
    "browser.visit(url)\n",
    "html = browser.html\n",
    "soup = bs(html, \"html.parser\")\n",
    "#news_text = soup.find('div', class_='list_text')\n",
    "#new_parsing = news_text.find(\"div\", class_=\"content_title\")\n",
    "news_title = soup.find('a', target=\"_self\").text"
   ]
  },
  {
   "cell_type": "code",
   "execution_count": null,
   "metadata": {},
   "outputs": [],
   "source": [
    "browser = init_browser()\n",
    "browser.visit(url_img)\n",
    "browser.click_link_by_partial_text(\"FULL IMAGE\")\n",
    "browser.click_link_by_partial_text(\"more info\")\n",
    "html = browser.html\n",
    "soup = bs(html, \"html.parser\")\n",
    "mars_img = soup.find('figure', class_=\"lede\").a[\"href\"]\n",
    "mars_img = f\"https://www.jpl.nasa.gov{mars_img}\""
   ]
  },
  {
   "cell_type": "code",
   "execution_count": null,
   "metadata": {},
   "outputs": [],
   "source": [
    "browser = init_browser()\n",
    "browser.visit(url_twtr)\n",
    "html = browser.html\n",
    "soup = bs(html, \"html.parser\")\n",
    "mars_weather = soup.find('span', class_=\"css-901oao css-16my406 r-1qd0xha r-ad9z0x r-bcqeeo r-qvutc0\")\n",
    "mars_weather"
   ]
  },
  {
   "cell_type": "code",
   "execution_count": null,
   "metadata": {},
   "outputs": [],
   "source": [
    "mars_table = pd.read_html(url_table)"
   ]
  },
  {
   "cell_type": "code",
   "execution_count": null,
   "metadata": {},
   "outputs": [],
   "source": [
    "browser = init_browser()\n",
    "browser.visit(url_hemispheres)\n",
    "html = browser.html\n",
    "soup = bs(html, \"html.parser\")\n",
    "hemi_list = soup.find('div', class_ = 'collapsible results')\n",
    "mars_hemis = hemi_list.find_all('div', class_='item')\n",
    "mars_hemis\n",
    "hemi_imgs = []\n",
    "for hemi in mars_hemis:\n",
    "    i = hemi.find('img')['src']\n",
    "    i = f\"https://astrogeology.usgs.gov{i}\"\n",
    "    hemi_imgs.append(i)"
   ]
  },
  {
   "cell_type": "code",
   "execution_count": null,
   "metadata": {},
   "outputs": [],
   "source": [
    "mars_scrape = {\"News_Title\": news_title,\n",
    "           \"Mars_Image\": mars_img,\n",
    "           \"Mars_Weather\": mars_weather,\n",
    "           \"Mars_Table\": mars_table,\n",
    "           \"Hemisphere_1\": hemi_imgs[0],\n",
    "           \"Hemisphere_2\": hemi_imgs[1],\n",
    "           \"Hemisphere_3\": hemi_imgs[2],\n",
    "           \"Hemisphere_4\": hemi_imgs[3]}"
   ]
  },
  {
   "cell_type": "code",
   "execution_count": null,
   "metadata": {},
   "outputs": [],
   "source": [
    "mars_scrape"
   ]
  },
  {
   "cell_type": "code",
   "execution_count": null,
   "metadata": {},
   "outputs": [],
   "source": [
    "import pymongo\n",
    "client = pymongo.MongoClient(\"mongodb://localhost:27017/\")\n",
    "mars_db = client[\"mars_db\"]\n",
    "collection = mars_db[\"mars_data\"]\n",
    "insert = mars_data.insert_one(mars_scrape)"
   ]
  }
 ],
 "metadata": {
  "kernelspec": {
   "display_name": "Python 3",
   "language": "python",
   "name": "python3"
  },
  "language_info": {
   "codemirror_mode": {
    "name": "ipython",
    "version": 3
   },
   "file_extension": ".py",
   "mimetype": "text/x-python",
   "name": "python",
   "nbconvert_exporter": "python",
   "pygments_lexer": "ipython3",
   "version": "3.7.4"
  }
 },
 "nbformat": 4,
 "nbformat_minor": 2
}
