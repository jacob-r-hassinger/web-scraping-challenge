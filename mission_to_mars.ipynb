{
 "cells": [
  {
   "cell_type": "code",
   "execution_count": 1,
   "metadata": {},
   "outputs": [],
   "source": [
    "from splinter import Browser\n",
    "from bs4 import BeautifulSoup as bs\n",
    "import time\n",
    "import pandas as pd"
   ]
  },
  {
   "cell_type": "code",
   "execution_count": 2,
   "metadata": {},
   "outputs": [],
   "source": [
    "def init_browser():\n",
    "    executable_path = {\"executable_path\": \"chromedriver.exe\"}\n",
    "    return Browser(\"chrome\", **executable_path, headless=False)"
   ]
  },
  {
   "cell_type": "code",
   "execution_count": 3,
   "metadata": {},
   "outputs": [],
   "source": [
    "url = \"https://mars.nasa.gov/news\"\n",
    "url_img = \"https://www.jpl.nasa.gov/spaceimages/?search=&category=Mars\"\n",
    "url_twtr = \"https://twitter.com/MarsWxReport?lang=en\"\n",
    "url_table = \"https://space-facts.com/mars/\"\n",
    "url_hemispheres = \"https://astrogeology.usgs.gov/search/results?q=hemisphere+enhanced&k1=target&v1=Mars\""
   ]
  },
  {
   "cell_type": "code",
   "execution_count": 4,
   "metadata": {},
   "outputs": [],
   "source": [
    "browser = init_browser()\n",
    "browser.visit(url)\n",
    "html = browser.html\n",
    "soup = bs(html, \"html.parser\")\n",
    "#news_text = soup.find('div', class_='list_text')\n",
    "#new_parsing = news_text.find(\"div\", class_=\"content_title\")\n",
    "news_title = soup.find('a', target=\"_self\").text"
   ]
  },
  {
   "cell_type": "code",
   "execution_count": 5,
   "metadata": {},
   "outputs": [
    {
     "name": "stderr",
     "output_type": "stream",
     "text": [
      "C:\\Users\\jacob\\Anaconda3\\lib\\site-packages\\splinter\\driver\\webdriver\\__init__.py:528: FutureWarning: browser.find_link_by_partial_text is deprecated. Use browser.links.find_by_partial_text instead.\n",
      "  FutureWarning,\n"
     ]
    }
   ],
   "source": [
    "browser = init_browser()\n",
    "browser.visit(url_img)\n",
    "browser.click_link_by_partial_text(\"FULL IMAGE\")\n",
    "browser.click_link_by_partial_text(\"more info\")\n",
    "html = browser.html\n",
    "soup = bs(html, \"html.parser\")\n",
    "mars_img = soup.find('figure', class_=\"lede\").a[\"href\"]\n",
    "mars_img = f\"https://www.jpl.nasa.gov{mars_img}\""
   ]
  },
  {
   "cell_type": "code",
   "execution_count": 6,
   "metadata": {},
   "outputs": [],
   "source": [
    "browser = init_browser()\n",
    "browser.visit(url_twtr)\n",
    "html = browser.html\n",
    "soup = bs(html, \"html.parser\")\n",
    "mars_weather = soup.find('span', class_=\"css-901oao css-16my406 r-1qd0xha r-ad9z0x r-bcqeeo r-qvutc0\")\n",
    "mars_weather"
   ]
  },
  {
   "cell_type": "code",
   "execution_count": 7,
   "metadata": {},
   "outputs": [],
   "source": [
    "mars_table_from_html = pd.read_html(url_table)\n",
    "dataframe = mars_table_from_html[0]\n",
    "mars_table = dataframe.rename(columns = {0 : \"Category\", 1 : \"Fact\"})\n",
    "mars_table = mars_table.set_index(\"Category\")"
   ]
  },
  {
   "cell_type": "code",
   "execution_count": 8,
   "metadata": {},
   "outputs": [
    {
     "data": {
      "text/plain": [
       "{'Fact': {'Equatorial Diameter:': '6,792 km',\n",
       "  'Polar Diameter:': '6,752 km',\n",
       "  'Mass:': '6.39 × 10^23 kg (0.11 Earths)',\n",
       "  'Moons:': '2 (Phobos & Deimos)',\n",
       "  'Orbit Distance:': '227,943,824 km (1.38 AU)',\n",
       "  'Orbit Period:': '687 days (1.9 years)',\n",
       "  'Surface Temperature:': '-87 to -5 °C',\n",
       "  'First Record:': '2nd millennium BC',\n",
       "  'Recorded By:': 'Egyptian astronomers'}}"
      ]
     },
     "execution_count": 8,
     "metadata": {},
     "output_type": "execute_result"
    }
   ],
   "source": [
    "mars_table = mars_table.to_dict()\n",
    "mars_table"
   ]
  },
  {
   "cell_type": "code",
   "execution_count": 9,
   "metadata": {},
   "outputs": [],
   "source": [
    "browser = init_browser()\n",
    "browser.visit(url_hemispheres)\n",
    "html = browser.html\n",
    "soup = bs(html, \"html.parser\")\n",
    "hemi_list = soup.find('div', class_ = 'collapsible results')\n",
    "mars_hemis = hemi_list.find_all('div', class_='item')\n",
    "mars_hemis\n",
    "hemi_imgs = []\n",
    "for hemi in mars_hemis:\n",
    "    i = hemi.find('img')['src']\n",
    "    i = f\"https://astrogeology.usgs.gov{i}\"\n",
    "    hemi_imgs.append(i)\n",
    "hemi_img_1 = hemi_imgs[0]\n",
    "hemi_img_2 = hemi_imgs[1]\n",
    "hemi_img_3 = hemi_imgs[2]\n",
    "hemi_img_4 = hemi_imgs[3]"
   ]
  },
  {
   "cell_type": "code",
   "execution_count": 10,
   "metadata": {},
   "outputs": [],
   "source": [
    "mars_scrape = {\"News_Title\": news_title,\n",
    "           \"Mars_Image\": mars_img,\n",
    "           \"Mars_Weather\": mars_weather,\n",
    "           \"Mars_Table\": mars_table,\n",
    "           \"Hemisphere_1\": hemi_img_1,\n",
    "           \"Hemisphere_2\": hemi_img_2,\n",
    "           \"Hemisphere_3\": hemi_img_3,\n",
    "           \"Hemisphere_4\": hemi_img_4}"
   ]
  },
  {
   "cell_type": "code",
   "execution_count": 11,
   "metadata": {},
   "outputs": [
    {
     "data": {
      "text/plain": [
       "{'News_Title': 'The Red Planet',\n",
       " 'Mars_Image': 'https://www.jpl.nasa.gov/spaceimages/images/largesize/PIA12826_hires.jpg',\n",
       " 'Mars_Weather': None,\n",
       " 'Mars_Table': {'Fact': {'Equatorial Diameter:': '6,792 km',\n",
       "   'Polar Diameter:': '6,752 km',\n",
       "   'Mass:': '6.39 × 10^23 kg (0.11 Earths)',\n",
       "   'Moons:': '2 (Phobos & Deimos)',\n",
       "   'Orbit Distance:': '227,943,824 km (1.38 AU)',\n",
       "   'Orbit Period:': '687 days (1.9 years)',\n",
       "   'Surface Temperature:': '-87 to -5 °C',\n",
       "   'First Record:': '2nd millennium BC',\n",
       "   'Recorded By:': 'Egyptian astronomers'}},\n",
       " 'Hemisphere_1': 'https://astrogeology.usgs.gov/cache/images/dfaf3849e74bf973b59eb50dab52b583_cerberus_enhanced.tif_thumb.png',\n",
       " 'Hemisphere_2': 'https://astrogeology.usgs.gov/cache/images/7677c0a006b83871b5a2f66985ab5857_schiaparelli_enhanced.tif_thumb.png',\n",
       " 'Hemisphere_3': 'https://astrogeology.usgs.gov/cache/images/aae41197e40d6d4f3ea557f8cfe51d15_syrtis_major_enhanced.tif_thumb.png',\n",
       " 'Hemisphere_4': 'https://astrogeology.usgs.gov/cache/images/04085d99ec3713883a9a57f42be9c725_valles_marineris_enhanced.tif_thumb.png'}"
      ]
     },
     "execution_count": 11,
     "metadata": {},
     "output_type": "execute_result"
    }
   ],
   "source": [
    "mars_scrape"
   ]
  },
  {
   "cell_type": "code",
   "execution_count": 12,
   "metadata": {},
   "outputs": [],
   "source": [
    "import pymongo\n",
    "client = pymongo.MongoClient(\"mongodb://localhost:27017/\")\n",
    "mars_db = client[\"mars_db\"]\n",
    "collection = mars_db[\"mars_data\"]\n",
    "insert = mars_db.collection.insert_one(mars_scrape)"
   ]
  },
  {
   "cell_type": "code",
   "execution_count": null,
   "metadata": {},
   "outputs": [],
   "source": []
  }
 ],
 "metadata": {
  "kernelspec": {
   "display_name": "Python 3",
   "language": "python",
   "name": "python3"
  },
  "language_info": {
   "codemirror_mode": {
    "name": "ipython",
    "version": 3
   },
   "file_extension": ".py",
   "mimetype": "text/x-python",
   "name": "python",
   "nbconvert_exporter": "python",
   "pygments_lexer": "ipython3",
   "version": "3.7.4"
  }
 },
 "nbformat": 4,
 "nbformat_minor": 2
}
