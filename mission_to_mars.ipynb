{
 "cells": [
  {
   "cell_type": "code",
   "execution_count": 1,
   "metadata": {},
   "outputs": [],
   "source": [
    "from splinter import Browser\n",
    "from bs4 import BeautifulSoup as bs\n",
    "import time\n",
    "import pandas as pd"
   ]
  },
  {
   "cell_type": "code",
   "execution_count": 2,
   "metadata": {},
   "outputs": [],
   "source": [
    "def init_browser():\n",
    "    executable_path = {\"executable_path\": \"chromedriver.exe\"}\n",
    "    return Browser(\"chrome\", **executable_path, headless=False)"
   ]
  },
  {
   "cell_type": "code",
   "execution_count": 3,
   "metadata": {},
   "outputs": [],
   "source": [
    "url = \"https://mars.nasa.gov/news\"\n",
    "url_img = \"https://www.jpl.nasa.gov/spaceimages/?search=&category=Mars\"\n",
    "url_twtr = \"https://twitter.com/MarsWxReport?lang=en\"\n",
    "url_table = \"https://space-facts.com/mars/\"\n",
    "url_hemispheres = \"https://astrogeology.usgs.gov/search/results?q=hemisphere+enhanced&k1=target&v1=Mars\""
   ]
  },
  {
   "cell_type": "code",
   "execution_count": 4,
   "metadata": {},
   "outputs": [],
   "source": [
    "browser = init_browser()\n",
    "browser.visit(url)\n",
    "html = browser.html\n",
    "soup = bs(html, \"html.parser\")\n",
    "#news_text = soup.find('div', class_='list_text')\n",
    "#new_parsing = news_text.find(\"div\", class_=\"content_title\")\n",
    "news_title = soup.find('a', target=\"_self\")"
   ]
  },
  {
   "cell_type": "code",
   "execution_count": 5,
   "metadata": {},
   "outputs": [
    {
     "name": "stderr",
     "output_type": "stream",
     "text": [
      "C:\\Users\\jacob\\Anaconda3\\lib\\site-packages\\splinter\\driver\\webdriver\\__init__.py:528: FutureWarning: browser.find_link_by_partial_text is deprecated. Use browser.links.find_by_partial_text instead.\n",
      "  FutureWarning,\n"
     ]
    }
   ],
   "source": [
    "browser = init_browser()\n",
    "browser.visit(url_img)\n",
    "html = browser.html\n",
    "soup = bs(html, \"html.parser\")\n",
    "mars_img = browser.click_link_by_partial_text(\"FULL IMAGE\")"
   ]
  },
  {
   "cell_type": "code",
   "execution_count": 6,
   "metadata": {},
   "outputs": [],
   "source": [
    "browser = init_browser()\n",
    "browser.visit(url_twtr)\n",
    "html = browser.html\n",
    "soup = bs(html, \"html.parser\")\n",
    "mars_weather = soup.find('span', class_=\"css-901oao css-16my406 r-1qd0xha r-ad9z0x r-bcqeeo r-qvutc0\")"
   ]
  },
  {
   "cell_type": "code",
   "execution_count": 7,
   "metadata": {},
   "outputs": [],
   "source": [
    "mars_table = pd.read_html(url_table)"
   ]
  },
  {
   "cell_type": "code",
   "execution_count": 8,
   "metadata": {},
   "outputs": [],
   "source": [
    "browser = init_browser()\n",
    "browser.visit(url_hemispheres)\n",
    "html = browser.html\n",
    "soup = bs(html, \"html.parser\")\n",
    "hemi_list = soup.find('div', class_ = 'collapsible results')\n",
    "mars_hemis = hemi_list.find_all('div', class_='item')\n",
    "mars_hemis\n",
    "hemi_imgs = []\n",
    "for hemi in mars_hemis:\n",
    "    i = hemi.find('img')\n",
    "    hemi_imgs.append(i)"
   ]
  },
  {
   "cell_type": "code",
   "execution_count": 9,
   "metadata": {},
   "outputs": [],
   "source": [
    "listings = {\"News Title\": news_title,\n",
    "           \"Mars Image\": mars_img,\n",
    "           \"Mars Weather\": mars_weather,\n",
    "           \"Mars Table\": mars_table,\n",
    "           \"Hemisphere 1\": hemi_imgs[0],\n",
    "           \"Hemisphere 2\": hemi_imgs[1],\n",
    "           \"Hemisphere 3\": hemi_imgs[2],\n",
    "           \"Hemisphere 4\": hemi_imgs[3]}"
   ]
  },
  {
   "cell_type": "code",
   "execution_count": null,
   "metadata": {},
   "outputs": [],
   "source": []
  }
 ],
 "metadata": {
  "kernelspec": {
   "display_name": "Python 3",
   "language": "python",
   "name": "python3"
  },
  "language_info": {
   "codemirror_mode": {
    "name": "ipython",
    "version": 3
   },
   "file_extension": ".py",
   "mimetype": "text/x-python",
   "name": "python",
   "nbconvert_exporter": "python",
   "pygments_lexer": "ipython3",
   "version": "3.7.4"
  }
 },
 "nbformat": 4,
 "nbformat_minor": 2
}
